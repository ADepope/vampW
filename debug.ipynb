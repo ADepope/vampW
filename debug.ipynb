{
 "cells": [
  {
   "cell_type": "code",
   "execution_count": 1,
   "metadata": {},
   "outputs": [],
   "source": [
    "from scipy.stats import norm\n",
    "import numpy as np\n",
    "import sympy\n",
    "import scipy\n",
    "import torch\n",
    "from numpy import random\n",
    "import matplotlib.pyplot as plt\n",
    "from mpl_toolkits.mplot3d import Axes3D\n",
    "\n",
    "emc = float( sympy.S.EulerGamma.n(10) )"
   ]
  },
  {
   "cell_type": "code",
   "execution_count": 2,
   "metadata": {},
   "outputs": [],
   "source": [
    "def update_Weibull_alpha_eq(alpha, y, mu, z_hat, xi):\n",
    "    n,_ = y.shape\n",
    "    out = np.zeros(n)\n",
    "    res = np.log(y) - mu - z_hat\n",
    "    out = np.sum(res) - np.exp(-emc) * np.sum( np.exp(alpha * res + (alpha**2)/2/xi) * (res + alpha/xi) )\n",
    "    return out\n",
    "\n",
    "def update_Weibull_alpha(y, mu, z_hat, alpha_old, xi):\n",
    "    alpha_new = scipy.optimize.fsolve(update_Weibull_alpha_eq, x0 = alpha_old, args=(y, mu, z_hat, xi))\n",
    "    if isinstance(alpha_new, np.ndarray) or isinstance(alpha_new, list): alpha_new = float(alpha_new[0])\n",
    "    return alpha_new\n",
    "\n",
    "def update_Weibull_mu(y, z_hat, alpha, xi):\n",
    "    n,_ = y.shape\n",
    "    mu_new = - np.log(n) / alpha - emc/alpha + alpha / 2 / xi + 1 / alpha * np.log(np.sum(np.exp(alpha*(np.log(y) - z_hat))))\n",
    "    if isinstance(mu_new, np.ndarray) or isinstance(mu_new, list): mu_new = float(mu_new[0])\n",
    "    return mu_new"
   ]
  },
  {
   "cell_type": "code",
   "execution_count": 4,
   "metadata": {},
   "outputs": [],
   "source": [
    "def weibull_likelihood(z_hat, Y, a, mu, xi, K):\n",
    "    term1 = torch.exp(-a * mu - a * z_hat - K)\n",
    "    term2 = Y ** a * torch.exp(a ** 2 / (2 * xi))\n",
    "    term3 = a * torch.exp(a * z_hat + K) * mu\n",
    "    term4 = (torch.exp(K) * a * z_hat - torch.exp(K) * torch.log(Y) * a + K * torch.exp(K)) * torch.exp(a * z_hat)\n",
    "    term5 = torch.exp(a * mu)\n",
    "\n",
    "    result = -term1 * (term2 + (term3 + term4) * term5)\n",
    "    return torch.sum(result)"
   ]
  }
 ],
 "metadata": {
  "kernelspec": {
   "display_name": "venv",
   "language": "python",
   "name": "python3"
  },
  "language_info": {
   "codemirror_mode": {
    "name": "ipython",
    "version": 3
   },
   "file_extension": ".py",
   "mimetype": "text/x-python",
   "name": "python",
   "nbconvert_exporter": "python",
   "pygments_lexer": "ipython3",
   "version": "3.9.12"
  }
 },
 "nbformat": 4,
 "nbformat_minor": 2
}
