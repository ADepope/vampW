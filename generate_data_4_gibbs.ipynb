{
 "cells": [
  {
   "cell_type": "code",
   "execution_count": 14,
   "metadata": {},
   "outputs": [],
   "source": [
    "import numpy as np\n",
    "import sympy\n",
    "emc = float( sympy.S.EulerGamma.n(10) )\n",
    "from tteVAMP.problem import Problem\n",
    "from tteVAMP.simulations import sim_model\n",
    "from tteVAMP.vamp import infere\n",
    "from tteVAMP.utils import plot_metrics\n",
    "import pandas as pd\n",
    "import zarr\n",
    "import os"
   ]
  },
  {
   "cell_type": "code",
   "execution_count": 2,
   "metadata": {},
   "outputs": [
    {
     "name": "stdout",
     "output_type": "stream",
     "text": [
      "Weibull\n"
     ]
    }
   ],
   "source": [
    "np.random.seed(42)\n",
    "n=800\n",
    "m=800\n",
    "p=0.4\n",
    "la=0.05\n",
    "# This is where the sigma is defined. Note that the scope of this definition extends to gvamp\n",
    "sigma=1\n",
    "omega=1\n",
    "h2=0.9\n",
    "gam1 = 1e-2\n",
    "tau1 = 1e-1\n",
    "mu=np.full((n,1), 0) \n",
    "maxiter = 100\n",
    "problem_instance = Problem(n=n, m=m, la=la, sigmas = [sigma], omegas=[omega], model='Weibull', mu=mu)\n",
    "X,beta,y,alpha = sim_model(problem_instance,h2,p )"
   ]
  },
  {
   "cell_type": "code",
   "execution_count": 16,
   "metadata": {},
   "outputs": [],
   "source": [
    "if not os.path.exists('gibbs'):\n",
    "    os.makedirs('gibbs')\n"
   ]
  },
  {
   "cell_type": "code",
   "execution_count": 17,
   "metadata": {},
   "outputs": [],
   "source": [
    "indices =  np.arange(0,m)\n",
    "df = pd.DataFrame({'IID': indices, 'FID': indices, 'y': y.squeeze(-1)})\n",
    "df.to_csv(\"./gibbs/800x800_h2_0.6_la_0.5.phen\", sep='\\t', index=None, header=None)"
   ]
  },
  {
   "cell_type": "code",
   "execution_count": 18,
   "metadata": {},
   "outputs": [],
   "source": [
    "vector = np.ones(m)\n",
    "np.savetxt('./gibbs/status.fail', vector, fmt='%d')"
   ]
  },
  {
   "cell_type": "code",
   "execution_count": 19,
   "metadata": {},
   "outputs": [],
   "source": [
    "zarr.save('./gibbs/X.zarr', X)"
   ]
  }
 ],
 "metadata": {
  "kernelspec": {
   "display_name": "venv",
   "language": "python",
   "name": "python3"
  },
  "language_info": {
   "codemirror_mode": {
    "name": "ipython",
    "version": 3
   },
   "file_extension": ".py",
   "mimetype": "text/x-python",
   "name": "python",
   "nbconvert_exporter": "python",
   "pygments_lexer": "ipython3",
   "version": "3.9.12"
  }
 },
 "nbformat": 4,
 "nbformat_minor": 2
}
