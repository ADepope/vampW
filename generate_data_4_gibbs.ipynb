{
 "cells": [
  {
   "cell_type": "code",
   "execution_count": 3,
   "metadata": {},
   "outputs": [],
   "source": [
    "import numpy as np\n",
    "import sympy\n",
    "emc = float( sympy.S.EulerGamma.n(10) )\n",
    "from tteVAMP.problem import Problem\n",
    "from tteVAMP.simulations import *\n",
    "from tteVAMP.vamp import infere\n",
    "from tteVAMP.utils import plot_metrics\n",
    "import pandas as pd\n",
    "import zarr\n",
    "import os"
   ]
  },
  {
   "cell_type": "code",
   "execution_count": 6,
   "metadata": {},
   "outputs": [
    {
     "name": "stdout",
     "output_type": "stream",
     "text": [
      "Are standard deviations valid? True\n",
      "Variance of beta: 0.012814499328007614\n",
      "Generated alpha value is: 1.567078222875754\n",
      "Variance of Xb: 0.669833932317008\n",
      "Variance of b: 0.000757771590922301\n"
     ]
    }
   ],
   "source": [
    "np.random.seed(42)\n",
    "n=800\n",
    "m=800\n",
    "p=0.4\n",
    "la=0.05\n",
    "# sigma=1\n",
    "h2=0.5\n",
    "\n",
    "\n",
    "mu=np.full((n,1), 0) \n",
    "X = sim_geno(n,m,p)\n",
    "column_means = np.nanmean(X, axis=0)\n",
    "column_stds = np.nanstd(X, axis=0)\n",
    "print(f\"Are standard deviations valid? {not 0 in column_stds}\")\n",
    "X = (X - column_means) / column_stds\n",
    "X = np.nan_to_num(X)\n",
    "variances = np.var(X[:, :5], axis=0)\n",
    "beta = sim_beta(m, la, h2/m/la)\n",
    "y, alpha = sim_pheno_Weibull(X, beta, mu, h2)\n",
    "print(f\"Generated alpha value is: {alpha}\")\n",
    "print(f\"Variance of Xb: {np.var(X@beta)}\")\n",
    "print(f\"Variance of b: {np.var(beta)}\")"
   ]
  },
  {
   "cell_type": "code",
   "execution_count": 16,
   "metadata": {},
   "outputs": [],
   "source": [
    "if not os.path.exists('gibbs'):\n",
    "    os.makedirs('gibbs')\n"
   ]
  },
  {
   "cell_type": "code",
   "execution_count": 17,
   "metadata": {},
   "outputs": [],
   "source": [
    "indices =  np.arange(0,m)\n",
    "df = pd.DataFrame({'IID': indices, 'FID': indices, 'y': y.squeeze(-1)})\n",
    "df.to_csv(\"./gibbs/800x800_h2_0.6_la_0.5.phen\", sep='\\t', index=None, header=None)"
   ]
  },
  {
   "cell_type": "code",
   "execution_count": 18,
   "metadata": {},
   "outputs": [],
   "source": [
    "vector = np.ones(m)\n",
    "np.savetxt('./gibbs/status.fail', vector, fmt='%d')"
   ]
  },
  {
   "cell_type": "code",
   "execution_count": 19,
   "metadata": {},
   "outputs": [],
   "source": [
    "zarr.save('./gibbs/X.zarr', X)"
   ]
  }
 ],
 "metadata": {
  "kernelspec": {
   "display_name": "venv",
   "language": "python",
   "name": "python3"
  },
  "language_info": {
   "codemirror_mode": {
    "name": "ipython",
    "version": 3
   },
   "file_extension": ".py",
   "mimetype": "text/x-python",
   "name": "python",
   "nbconvert_exporter": "python",
   "pygments_lexer": "ipython3",
   "version": "3.9.12"
  }
 },
 "nbformat": 4,
 "nbformat_minor": 2
}
